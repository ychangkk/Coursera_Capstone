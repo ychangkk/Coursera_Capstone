{
 "cells": [
  {
   "cell_type": "markdown",
   "metadata": {},
   "source": [
    "# The battle of neighborhoods"
   ]
  },
  {
   "cell_type": "markdown",
   "metadata": {},
   "source": [
    "\n",
    "## Background & Problem Description:\n",
    "\n",
    "A young couple recently moved from Paris to Toronto and they are looking for a right location to open their first cafe in the city. As Toronto is one of the most diverse and populous cities in Canada, there are lots of business opportunities in various industries, be it banking & finance, tourism, arts & music etc. People from all over the world fly to Toronto on daily basis for conferences / business meetings / traveling, thus giving rise to lots of famous restaurants and cafes. Though there are plenty of options in front of this couple, making decisions is not easy. The market in Toronto is highly developed and thus, comes with intense competition and high investment cost. \n",
    "\n",
    "Being attracted by the potential return but scared of choosing the wrong neighborhoods, they decided to hire a team of data analysts to conduct detailed research on the Toronto market and suggest a location that provides space for business growth and has a nice environment that support business operations.\n",
    "\n",
    "\n",
    "To solve the problem, we need to look at both demand side and supply side. Demand side refers to the group of potential customers, supply side refers to the resources needed to run the cafe e.g. ingredients. The former is tied to the revenue of the cafe, while the latter plays a key role in controling the cost of operations.\n",
    "\n",
    "Below are the factors we need to consider in our analysis:\n",
    "\n",
    "  \n",
    "- where's the supply comes from? Venues in each neighborhood e.g. grocery stores that will support the running of cafe business.\n",
    "\n",
    "\n",
    "- where's the demand comes from? What's the level of competition in each neighborhood e.g. looking at the number of cafes in each neighborhood to determine the saturation of market.\n",
    "\n",
    "\n",
    "At the end of project, we want to help this couple find the right location to open their cafe based on market saturation and supply of resources to run the business."
   ]
  },
  {
   "cell_type": "markdown",
   "metadata": {},
   "source": [
    "## Data Description & Approach\n",
    "\n",
    "Below are the data sources we will collect data from to solve the problem.\n"
   ]
  },
  {
   "cell_type": "markdown",
   "metadata": {},
   "source": [
    "1. Wikipedia:\n",
    "\n",
    "We will extract a list of Canada postal codes from Wikipedia so we can build a dataframe of the postal code of each neighborhood along with the borough name and neighborhood name. In total, there are 5 boroughs and 306 neighborhoods in the dataset.\n",
    "\n",
    "The data sample is provided below:\n"
   ]
  },
  {
   "cell_type": "raw",
   "metadata": {},
   "source": [
    "Postalcode\tBorough\tNeighborhood\n",
    "2\tM3A\tNorth York\tParkwoods\n",
    "3\tM4A\tNorth York\tVictoria Village\n",
    "4\tM5A\tDowntown Toronto\tRegent Park, Harbourfront\n",
    "5\tM6A\tNorth York\tLawrence Manor, Lawrence Heights\n",
    "6\tM7A\tDowntown Toronto\tQueen's Park, Ontario Provincial Government\n",
    "8\tM9A\tEtobicoke\tIslington Avenue, Humber Valley Village\n",
    "9\tM1B\tScarborough\tMalvern, Rouge\n",
    "11\tM3B\tNorth York\tDon Mills\n",
    "12\tM4B\tEast York\tParkview Hill, Woodbine Gardens\n",
    "13\tM5B\tDowntown Toronto\tGarden District, Ryerson"
   ]
  },
  {
   "cell_type": "markdown",
   "metadata": {},
   "source": [
    "\n",
    "2. http://cocl.us/Geospatial_data\n",
    "\n",
    "In order to utilize the Foursquare location data, we need to get the latitude and the longitude coordinates of each neighborhood. The website above will provide us the geospatial data needed to input into Foursquare.\n",
    "\n",
    "The data sample is provided below:\n"
   ]
  },
  {
   "cell_type": "raw",
   "metadata": {},
   "source": [
    "Postal Code\tLatitude\tLongitude\n",
    "0\tM1B\t43.806686\t-79.194353\n",
    "1\tM1C\t43.784535\t-79.160497\n",
    "2\tM1E\t43.763573\t-79.188711\n",
    "3\tM1G\t43.770992\t-79.216917\n",
    "4\tM1H\t43.773136\t-79.239476\n",
    "5\tM1J\t43.744734\t-79.239476\n",
    "6\tM1K\t43.727929\t-79.262029\n",
    "7\tM1L\t43.711112\t-79.284577\n",
    "8\tM1M\t43.716316\t-79.239476\n",
    "9\tM1N\t43.692657\t-79.264848"
   ]
  },
  {
   "cell_type": "markdown",
   "metadata": {},
   "source": [
    "\n",
    "3. Foursquare\n",
    "\n",
    "Once we have the latitude and longitude coordinates, we can make use of Foursquare API to find out more about the venues in each neighborhood. We will look at the top venues in each neighborhood and search for key words such as grocery stores, cafes etc. We will also make use of clustering to find eighborhoods with similar characteristics (suggest similar business environment).\n",
    "\n",
    "The data sample is provided below:\n"
   ]
  },
  {
   "cell_type": "raw",
   "metadata": {},
   "source": [
    "Neighborhood\tNeighborhood Latitude\tNeighborhood Longitude\tVenue\tVenue Latitude\tVenue Longitude\tVenue Category\n",
    "0\tThe Beaches\t43.676357\t-79.293031\tGlen Manor Ravine\t43.676821\t-79.293942\tTrail\n",
    "1\tThe Beaches\t43.676357\t-79.293031\tThe Big Carrot Natural Food Market\t43.678879\t-79.297734\tHealth Food Store\n",
    "2\tThe Beaches\t43.676357\t-79.293031\tGrover Pub and Grub\t43.679181\t-79.297215\tPub\n",
    "3\tThe Beaches\t43.676357\t-79.293031\tUpper Beaches\t43.680563\t-79.292869\tNeighborhood\n",
    "4\tThe Danforth West, Riverdale\t43.679557\t-79.352188\tMenEssentials\t43.677820\t-79.351265\tCosmetics Shop\n",
    "5\tThe Danforth West, Riverdale\t43.679557\t-79.352188\tPantheon\t43.677621\t-79.351434\tGreek Restaurant\n",
    "6\tThe Danforth West, Riverdale\t43.679557\t-79.352188\tCafe Fiorentina\t43.677743\t-79.350115\tItalian Restaurant\n",
    "7\tThe Danforth West, Riverdale\t43.679557\t-79.352188\tDolce Gelato\t43.677773\t-79.351187\tIce Cream Shop\n",
    "8\tThe Danforth West, Riverdale\t43.679557\t-79.352188\tLa Diperie\t43.677530\t-79.352295\tIce Cream Shop\n",
    "9\tThe Danforth West, Riverdale\t43.679557\t-79.352188\tMoksha Yoga Danforth\t43.677622\t-79.352116\tYoga Studio"
   ]
  }
 ],
 "metadata": {
  "kernelspec": {
   "display_name": "Python 3",
   "language": "python",
   "name": "python3"
  },
  "language_info": {
   "codemirror_mode": {
    "name": "ipython",
    "version": 3
   },
   "file_extension": ".py",
   "mimetype": "text/x-python",
   "name": "python",
   "nbconvert_exporter": "python",
   "pygments_lexer": "ipython3",
   "version": "3.6.5"
  }
 },
 "nbformat": 4,
 "nbformat_minor": 2
}
