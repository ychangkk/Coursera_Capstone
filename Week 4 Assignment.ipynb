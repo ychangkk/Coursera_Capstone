{
 "cells": [
  {
   "cell_type": "markdown",
   "metadata": {},
   "source": [
    "# The battle of neighborhoods"
   ]
  },
  {
   "cell_type": "markdown",
   "metadata": {},
   "source": [
    "\n",
    "## Background & Problem Description:\n",
    "\n",
    "A famous chef couple recently moved from Paris to New York, and they are looking for an investment opportunity to open their first restaurant in New York. As New York is one of the most diverse and populous cities in the US, there are lots of business opportunities in various industries, be it banking & finance, tourism, arts & music etc. People from all over the world fly to New York on daily basis for conferences / business meetings / traveling, thus giving rise to lots of famous restaurants. Though there are plenty of options in front of this couple, making decisions is not easy. The New York market is highly developed and thus, comes with intense competition and high investment cost. \n",
    "\n",
    "Being attracted by the potential return but scared of choosing the wrong neighborhoods, they decided to hire a team of data analysts to conduct detailed research on the New York market and find out a location that maximize potential return while minimizing investment risk. Below are some of the questions they need data analysts to find the answer:\n",
    "\n",
    "- what type of cuisine they should choose?\n",
    "\n",
    "\n",
    "- in which neighborhood they should open the restaurant?\n",
    "\n",
    "\n",
    "- who are the targe customers of this restaurant?\n",
    "\n",
    "\n",
    "## Description of Data & Approach:\n",
    "\n",
    "To solve the problem, we will use Foursquare to extract demographics and venue information of New York. We need to look at both demand side and supply side. Demand side refers to the group of potential customers, supply side refers to the resources needed to run the restaurant e.g. food ingredients. The former is tied to the revenue of the restaurant, while the latter plays a key role in controling the cost of operations.\n",
    "\n",
    "Below are the data items we need to collect and analyze:\n",
    "\n",
    "- where's the demand comes from? e.g. looking at the demographics of NY population, size of populations in each neighborhood etc. \n",
    "\n",
    "  We need to take population distribution into consideration because demographics play an important role in food preferences .\n",
    "  \n",
    "\n",
    "- where's the supply comes from? Venues in each neighborhood e.g. grocery stores that will support the running of restaurant business.\n",
    "\n",
    "\n",
    "- level of competition in each neighborhood e.g. looking at the number of restaurants and types of cuisine in each neighborhood."
   ]
  },
  {
   "cell_type": "code",
   "execution_count": null,
   "metadata": {},
   "outputs": [],
   "source": []
  }
 ],
 "metadata": {
  "kernelspec": {
   "display_name": "Python 3",
   "language": "python",
   "name": "python3"
  },
  "language_info": {
   "codemirror_mode": {
    "name": "ipython",
    "version": 3
   },
   "file_extension": ".py",
   "mimetype": "text/x-python",
   "name": "python",
   "nbconvert_exporter": "python",
   "pygments_lexer": "ipython3",
   "version": "3.6.5"
  }
 },
 "nbformat": 4,
 "nbformat_minor": 2
}
